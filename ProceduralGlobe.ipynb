{
 "cells": [
  {
   "cell_type": "markdown",
   "metadata": {},
   "source": [
    "## Import libraries"
   ]
  },
  {
   "cell_type": "code",
   "execution_count": 1,
   "metadata": {},
   "outputs": [],
   "source": [
    "import noise\n",
    "import numpy as np\n",
    "from scipy.misc import toimage"
   ]
  },
  {
   "cell_type": "markdown",
   "metadata": {},
   "source": [
    "## Create random distribution"
   ]
  },
  {
   "cell_type": "code",
   "execution_count": 2,
   "metadata": {},
   "outputs": [
    {
     "name": "stderr",
     "output_type": "stream",
     "text": [
      "I:\\anaconda\\lib\\site-packages\\ipykernel_launcher.py:15: DeprecationWarning: `toimage` is deprecated!\n",
      "`toimage` is deprecated in SciPy 1.0.0, and will be removed in 1.2.0.\n",
      "Use Pillow's ``Image.fromarray`` directly instead.\n",
      "  from ipykernel import kernelapp as app\n"
     ]
    }
   ],
   "source": [
    "# Define the space attributes\n",
    "shape = (1024,1024)\n",
    "scale = 100.0\n",
    "octaves = 6\n",
    "persistence = 0.5\n",
    "lacunarity = 2.0\n",
    "\n",
    "world = np.zeros(shape) #Creates an array of 0's of the defined shape\n",
    "for i in range(shape[0]):\n",
    "    for j in range(shape[0]): #Use perlin with the values created\n",
    "        world[i][j] = noise.pnoise2(i/scale, j/scale, octaves=octaves, \n",
    "                                    persistence=persistence, \n",
    "                                    lacunarity=lacunarity, repeatx=1024, \n",
    "                                    repeaty=1024, base=0)\n",
    "toimage(world).show()"
   ]
  },
  {
   "cell_type": "markdown",
   "metadata": {},
   "source": [
    "## Add color"
   ]
  },
  {
   "cell_type": "code",
   "execution_count": 3,
   "metadata": {},
   "outputs": [
    {
     "name": "stderr",
     "output_type": "stream",
     "text": [
      "I:\\anaconda\\lib\\site-packages\\ipykernel_launcher.py:21: DeprecationWarning: `toimage` is deprecated!\n",
      "`toimage` is deprecated in SciPy 1.0.0, and will be removed in 1.2.0.\n",
      "Use Pillow's ``Image.fromarray`` directly instead.\n"
     ]
    }
   ],
   "source": [
    "#Define colors\n",
    "sea = [65,105,225]\n",
    "wood = [34,139,34]\n",
    "beach = [238, 214, 175]\n",
    "\n",
    "#Create function for adding colour\n",
    "def add_color(world): # Fill world with a 0's array\n",
    "    color_world = np.zeros(world.shape+(3,))\n",
    "    for i in range(shape[0]): #Define the biome depending on the shape\n",
    "        for j in range(shape[0]):\n",
    "            if world[i][j] < -0.05:\n",
    "                color_world[i][j] = sea\n",
    "            elif world[i][j] < 0:\n",
    "                color_world[i][j] = beach\n",
    "            elif world[i][j] < 1.0:\n",
    "                color_world[i][j] = wood\n",
    "# The if's conditions should go from smaller to bigger\n",
    "    return color_world\n",
    "\n",
    "color_world = add_color(world)\n",
    "toimage(color_world).show()"
   ]
  },
  {
   "cell_type": "markdown",
   "metadata": {},
   "source": [
    "## Add biome"
   ]
  },
  {
   "cell_type": "code",
   "execution_count": 4,
   "metadata": {},
   "outputs": [
    {
     "name": "stderr",
     "output_type": "stream",
     "text": [
      "I:\\anaconda\\lib\\site-packages\\ipykernel_launcher.py:27: DeprecationWarning: `toimage` is deprecated!\n",
      "`toimage` is deprecated in SciPy 1.0.0, and will be removed in 1.2.0.\n",
      "Use Pillow's ``Image.fromarray`` directly instead.\n"
     ]
    }
   ],
   "source": [
    "blue = [65,105,225]\n",
    "wood = [34,139,34]\n",
    "beach = [238, 214, 175]\n",
    "snow = [255, 250, 250]\n",
    "mountain = [139, 137, 137]\n",
    "\n",
    "#Create function for adding colour\n",
    "def add_color(world): # Fill world with a 0's array\n",
    "    biome_world = np.zeros(world.shape+(3,))\n",
    "    for i in range(shape[0]):\n",
    "        for j in range(shape[0]):\n",
    "            if world[i][j] < -0.05:\n",
    "                biome_world[i][j] = blue\n",
    "            elif world[i][j] < 0:\n",
    "                biome_world[i][j] = beach\n",
    "            elif world[i][j] < 0.2:\n",
    "                biome_world[i][j] = wood\n",
    "            elif world[i][j] < 0.3:\n",
    "                biome_world[i][j] = mountain\n",
    "            elif world[i][j] < 1.0:\n",
    "                biome_world[i][j] = snow\n",
    "# The if's conditions should go from smaller to bigger\n",
    "\n",
    "    return biome_world\n",
    "\n",
    "biome_world = add_color(world)\n",
    "toimage(biome_world).show()"
   ]
  },
  {
   "cell_type": "markdown",
   "metadata": {},
   "source": [
    "## Make a globe"
   ]
  },
  {
   "cell_type": "code",
   "execution_count": 5,
   "metadata": {},
   "outputs": [
    {
     "name": "stderr",
     "output_type": "stream",
     "text": [
      "I:\\anaconda\\lib\\site-packages\\ipykernel_launcher.py:22: DeprecationWarning: `toimage` is deprecated!\n",
      "`toimage` is deprecated in SciPy 1.0.0, and will be removed in 1.2.0.\n",
      "Use Pillow's ``Image.fromarray`` directly instead.\n"
     ]
    }
   ],
   "source": [
    "#Re-define the shape\n",
    "a,b = shape[0]/2, shape[1]/2\n",
    "n = 1024\n",
    "r = 125\n",
    "y,x = np.ogrid[-a:n-a, -b:n-b]\n",
    "\n",
    "# Create a mask using the radius r\n",
    "mask = x**2+y**2 <= r**2\n",
    "\n",
    "# Defines black colour and creates an array of zeroes with the same shape as biome_world\n",
    "black = [0, 0, 0]\n",
    "island_world = np.zeros_like(biome_world)\n",
    "\n",
    "# Creates a map in the defined radius\n",
    "for i in range(shape[0]):\n",
    "    for j in range(shape[0]):\n",
    "        if mask[i][j]:\n",
    "            island_world[i][j] = biome_world[i][j]\n",
    "        else:\n",
    "            island_world[i][j] = black\n",
    "            \n",
    "toimage(island_world).show()"
   ]
  },
  {
   "cell_type": "code",
   "execution_count": null,
   "metadata": {},
   "outputs": [],
   "source": []
  }
 ],
 "metadata": {
  "kernelspec": {
   "display_name": "Python 3",
   "language": "python",
   "name": "python3"
  },
  "language_info": {
   "codemirror_mode": {
    "name": "ipython",
    "version": 3
   },
   "file_extension": ".py",
   "mimetype": "text/x-python",
   "name": "python",
   "nbconvert_exporter": "python",
   "pygments_lexer": "ipython3",
   "version": "3.6.5"
  }
 },
 "nbformat": 4,
 "nbformat_minor": 2
}
